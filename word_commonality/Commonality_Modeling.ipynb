{
 "cells": [
  {
   "cell_type": "code",
   "execution_count": 1,
   "id": "heavy-louis",
   "metadata": {},
   "outputs": [],
   "source": [
    "import pandas as pd\n",
    "import sys\n",
    "\n",
    "#sys.path.append(\"..\")\n",
    "#sys.path.append(\"../data_generation\")"
   ]
  },
  {
   "cell_type": "code",
   "execution_count": 2,
   "id": "charitable-grammar",
   "metadata": {},
   "outputs": [],
   "source": [
    "#Import & Clean Word Frequency Data\n",
    "wf_common_words = pd.read_excel(\"corpus_data/word_frequency_lemmas_forms_top5k.xls\", sheet_name = \"3 wordForms\", usecols = [\"word\"], squeeze = True)\n",
    "wf_common_words = [str(word).upper() for word in wf_common_words]\n",
    "wf_common_words = set(wf_common_words)\n",
    "\n",
    "#Import & Clean Archive\n",
    "archive_df = pd.read_csv(\"archive_dictionary_copy.csv\", usecols = [\"WORD\", \"IS_VALID\"])\n",
    "archive_df.drop_duplicates(inplace = True, subset = \"WORD\")\n",
    "archive_df.reset_index(drop = True, inplace = True)\n",
    "archive_df[\"IS_VALID\"] = archive_df[\"IS_VALID\"].astype(int)"
   ]
  },
  {
   "cell_type": "code",
   "execution_count": 7,
   "id": "south-paste",
   "metadata": {},
   "outputs": [
    {
     "name": "stdout",
     "output_type": "stream",
     "text": [
      "             WORD  IS_VALID  NUM_LETTERS  IN_WFCOMMON  IN_WF_COMMON\n",
      "0          ACACIA         1            6            0             0\n",
      "1            ACAI         1            4            0             0\n",
      "2         ACRYLIC         1            7            0             0\n",
      "3         ACYCLIC         1            7            0             0\n",
      "4            AFAR         1            4            0             0\n",
      "...           ...       ...          ...          ...           ...\n",
      "30295   RUMOURING         0            9            0             0\n",
      "30296   UNGORGING         0            9            0             0\n",
      "30297  UNIGNORING         0           10            0             0\n",
      "30298  UNMOURNING         0           10            0             0\n",
      "30299     URONIUM         0            7            0             0\n",
      "\n",
      "[30300 rows x 5 columns]\n",
      "           IS_VALID   NUM_LETTERS   IN_WFCOMMON  IN_WF_COMMON\n",
      "count  30300.000000  30300.000000  30300.000000  30300.000000\n",
      "mean       0.241815      6.389934      0.045842      0.045842\n",
      "std        0.428190      1.722238      0.209145      0.209145\n",
      "min        0.000000      3.000000      0.000000      0.000000\n",
      "25%        0.000000      5.000000      0.000000      0.000000\n",
      "50%        0.000000      6.000000      0.000000      0.000000\n",
      "75%        0.000000      7.000000      0.000000      0.000000\n",
      "max        1.000000     18.000000      1.000000      1.000000\n"
     ]
    }
   ],
   "source": [
    "#Feature Creation\n",
    "archive_df[\"NUM_LETTERS\"] = archive_df[\"WORD\"].apply(lambda x: len(str(x)))\n",
    "archive_df[\"IN_WF_COMMON\"] = archive_df[\"WORD\"].apply(lambda x: str(x) in wf_common_words).astype(int)\n",
    "\n",
    "print(archive_df)\n",
    "print(archive_df.describe())"
   ]
  },
  {
   "cell_type": "code",
   "execution_count": 11,
   "id": "adopted-hollywood",
   "metadata": {},
   "outputs": [
    {
     "name": "stdout",
     "output_type": "stream",
     "text": [
      "          IS_VALID  NUM_LETTERS  IN_WFCOMMON  IN_WF_COMMON\n",
      "count  1389.000000  1389.000000       1389.0        1389.0\n",
      "mean      0.980562     5.465083          1.0           1.0\n",
      "std       0.138110     1.504450          0.0           0.0\n",
      "min       0.000000     4.000000          1.0           1.0\n",
      "25%       1.000000     4.000000          1.0           1.0\n",
      "50%       1.000000     5.000000          1.0           1.0\n",
      "75%       1.000000     6.000000          1.0           1.0\n",
      "max       1.000000    12.000000          1.0           1.0\n"
     ]
    }
   ],
   "source": [
    "common = archive_df[archive_df.IN_WF_COMMON == 1]\n",
    "print(common.describe())"
   ]
  },
  {
   "cell_type": "code",
   "execution_count": 12,
   "id": "nuclear-distribution",
   "metadata": {},
   "outputs": [
    {
     "name": "stdout",
     "output_type": "stream",
     "text": [
      "       IS_VALID  NUM_LETTERS  IN_WFCOMMON  IN_WF_COMMON\n",
      "count    7327.0  7327.000000  7327.000000   7327.000000\n",
      "mean        1.0     6.120104     0.185888      0.185888\n",
      "std         0.0     1.670034     0.389043      0.389043\n",
      "min         1.0     3.000000     0.000000      0.000000\n",
      "25%         1.0     5.000000     0.000000      0.000000\n",
      "50%         1.0     6.000000     0.000000      0.000000\n",
      "75%         1.0     7.000000     0.000000      0.000000\n",
      "max         1.0    13.000000     1.000000      1.000000\n"
     ]
    }
   ],
   "source": [
    "valid = archive_df[archive_df.IS_VALID == 1]\n",
    "print(valid.describe())"
   ]
  },
  {
   "cell_type": "code",
   "execution_count": 15,
   "id": "juvenile-treatment",
   "metadata": {},
   "outputs": [
    {
     "name": "stdout",
     "output_type": "stream",
     "text": [
      "            WORD  IS_VALID  NUM_LETTERS  IN_WFCOMMON  IN_WF_COMMON\n",
      "0         ACACIA         1            6            0             0\n",
      "1           ACAI         1            4            0             0\n",
      "2        ACRYLIC         1            7            0             0\n",
      "3        ACYCLIC         1            7            0             0\n",
      "4           AFAR         1            4            0             0\n",
      "...          ...       ...          ...          ...           ...\n",
      "30241    MOORING         1            7            0             0\n",
      "30243   MOURNING         1            8            0             0\n",
      "30245    ROOMING         1            7            0             0\n",
      "30246   RUMORING         1            8            0             0\n",
      "30247  UNMOORING         1            9            0             0\n",
      "\n",
      "[5965 rows x 5 columns]\n"
     ]
    }
   ],
   "source": [
    "gap = archive_df[(archive_df.IN_WF_COMMON == 0) & (archive_df.IS_VALID == 1)]\n",
    "print(gap)"
   ]
  },
  {
   "cell_type": "code",
   "execution_count": null,
   "id": "developing-theology",
   "metadata": {},
   "outputs": [],
   "source": []
  }
 ],
 "metadata": {
  "kernelspec": {
   "display_name": "Python 3",
   "language": "python",
   "name": "python3"
  },
  "language_info": {
   "codemirror_mode": {
    "name": "ipython",
    "version": 3
   },
   "file_extension": ".py",
   "mimetype": "text/x-python",
   "name": "python",
   "nbconvert_exporter": "python",
   "pygments_lexer": "ipython3",
   "version": "3.7.6"
  }
 },
 "nbformat": 4,
 "nbformat_minor": 5
}
